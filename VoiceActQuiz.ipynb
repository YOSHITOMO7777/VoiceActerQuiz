{
  "nbformat": 4,
  "nbformat_minor": 0,
  "metadata": {
    "colab": {
      "provenance": []
    },
    "kernelspec": {
      "name": "python3",
      "display_name": "Python 3"
    },
    "language_info": {
      "name": "python"
    },
    "gpuClass": "standard"
  },
  "cells": [
    {
      "cell_type": "markdown",
      "source": [
        "# Pythonで声優クイズ\n",
        "[![Open In Colab](https://colab.research.google.com/assets/colab-badge.svg)](https://colab.research.google.com/github/YOSHITOMO7777/VoiceActerQuiz/blob/main/VoiceActQuiz.ipynb)"
      ],
      "metadata": {
        "id": "r45-iDes8Uh3"
      }
    },
    {
      "cell_type": "markdown",
      "source": [
        "wikipediaから声優の出演歴を取得し、ランダムに出演歴を表示させてどの声優かを当てるクイズです。\n",
        "CSVファイルには製作者が厳選した声優が揃っていますが、物足りない人は自分で追加してみてください。\n",
        "\n",
        "なお、実行の際にはリポジトリ内のフォルダをコピーするかクローンして使用してください。\n",
        "GoogleDriveにフォルダごとアップロードするか、ローカルでPython環境を構築して .py を実行することで遊べます。"
      ],
      "metadata": {
        "id": "BG8JmnBL84If"
      }
    },
    {
      "cell_type": "markdown",
      "source": [
        "### Googleドライブをマウント"
      ],
      "metadata": {
        "id": "bj70A93S9syu"
      }
    },
    {
      "cell_type": "code",
      "source": [
        "from google.colab import drive\n",
        "drive.mount('/content/drive')"
      ],
      "metadata": {
        "id": "likBq145yzOz",
        "colab": {
          "base_uri": "https://localhost:8080/"
        },
        "outputId": "740e7f4a-4ff7-46c2-e038-b0a923dd06c7"
      },
      "execution_count": null,
      "outputs": [
        {
          "output_type": "stream",
          "name": "stdout",
          "text": [
            "Drive already mounted at /content/drive; to attempt to forcibly remount, call drive.mount(\"/content/drive\", force_remount=True).\n"
          ]
        }
      ]
    },
    {
      "cell_type": "markdown",
      "source": [
        "### 声優クイズをプレイする"
      ],
      "metadata": {
        "id": "oHa64C2Z-AzX"
      }
    },
    {
      "cell_type": "code",
      "source": [
        "# 日本語は漢字に変換した瞬間に判定が入りますが気にしないでください\n",
        "\n",
        "# 実行\n",
        "!python /content/drive/MyDrive/VoiceActQuizApp/playQuiz.py"
      ],
      "metadata": {
        "id": "yDQDg1jQXMUy"
      },
      "execution_count": null,
      "outputs": []
    },
    {
      "cell_type": "markdown",
      "source": [
        "### CSVに新たな声優を追加"
      ],
      "metadata": {
        "id": "QPvFj87h97PH"
      }
    },
    {
      "cell_type": "code",
      "source": [
        "# クイズリストに声優を追加する\n",
        "# 指示に従ってwikipediaのURLを入力してください\n",
        "# 個人的有名声優はほとんどリストに追加済みです\n",
        "# スクレイピングの都合上入ってない声優: 内山昂輝,大塚明夫,関智一,中田譲治,緑川光,井上喜久子,緒方恵美,日笠陽子,水樹奈々,村川梨衣\n",
        "\n",
        "# 実行\n",
        "!python /content/drive/MyDrive/VoiceActQuizApp/addActList.py"
      ],
      "metadata": {
        "id": "vXYjmj0gTqvM"
      },
      "execution_count": null,
      "outputs": []
    }
  ]
}